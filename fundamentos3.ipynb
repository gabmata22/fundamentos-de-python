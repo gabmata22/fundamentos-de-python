{
 "cells": [
  {
   "cell_type": "code",
   "execution_count": 1,
   "id": "a2807906",
   "metadata": {},
   "outputs": [
    {
     "name": "stdout",
     "output_type": "stream",
     "text": [
      "hola\n"
     ]
    }
   ],
   "source": [
    "print('hola')"
   ]
  },
  {
   "cell_type": "code",
   "execution_count": 2,
   "id": "951f8484",
   "metadata": {},
   "outputs": [
    {
     "name": "stdout",
     "output_type": "stream",
     "text": [
      "a es menor que b\n"
     ]
    }
   ],
   "source": [
    "# condicional simple\n",
    "a = 5\n",
    "b = 10\n",
    "if a < b:\n",
    "    print('a es menor que b')"
   ]
  },
  {
   "cell_type": "code",
   "execution_count": 3,
   "id": "229aaada",
   "metadata": {},
   "outputs": [
    {
     "name": "stdout",
     "output_type": "stream",
     "text": [
      "a no es menor que b o no es mayor que 1\n"
     ]
    }
   ],
   "source": [
    "# Condicional simple\n",
    "\n",
    "a = 0\n",
    "b = 10\n",
    "\n",
    "if (a < b) and (a > 1):\n",
    "    print(\"a es menor que b y mayor que 1\")\n",
    "else: \n",
    "    print(\"a no es menor que b o no es mayor que 1\") "
   ]
  },
  {
   "cell_type": "code",
   "execution_count": 4,
   "id": "17f80ae4",
   "metadata": {},
   "outputs": [
    {
     "data": {
      "text/plain": [
       "True"
      ]
     },
     "execution_count": 4,
     "metadata": {},
     "output_type": "execute_result"
    }
   ],
   "source": [
    "# table de la verdad operador and\n",
    "# true and true = true\n",
    "# true and false = false\n",
    "# false and true = false\n",
    "# false and false = false  \n",
    "True and True # True     "
   ]
  },
  {
   "cell_type": "code",
   "execution_count": 5,
   "id": "31d7231c",
   "metadata": {},
   "outputs": [
    {
     "name": "stdout",
     "output_type": "stream",
     "text": [
      "a no es mayor que 1\n"
     ]
    }
   ],
   "source": [
    "a = 0\n",
    "b = 10\n",
    "\n",
    "if (a < b):\n",
    "    if (a > 1):\n",
    "        print(\"a es menor que b y mayor que 1\")\n",
    "    else: \n",
    "        print(\"a no es mayor que 1\")\n",
    "else:\n",
    "    print(\"no es mayor que 1\")"
   ]
  },
  {
   "cell_type": "code",
   "execution_count": 6,
   "id": "cb707834",
   "metadata": {},
   "outputs": [
    {
     "name": "stdout",
     "output_type": "stream",
     "text": [
      "a es menor que b y mayor que 1\n"
     ]
    }
   ],
   "source": [
    "# condicionales compuestos\n",
    "#condicionales simple\n",
    "\n",
    "a = input (\"ingrese un numero para a:\")\n",
    "a = float(a)  # Convertir a entero\n",
    "b = float(input(\"ingrese un numero para b:\"))\n",
    "\n",
    "if (a < b):\n",
    "    if (a > 1):\n",
    "        print(\"a es menor que b y mayor que 1\")\n",
    "    else: \n",
    "        print(\"a no es mayor que 1\")\n",
    "else:\n",
    "    print(\"no es menor que b\")"
   ]
  },
  {
   "cell_type": "code",
   "execution_count": 7,
   "id": "cc18addd",
   "metadata": {},
   "outputs": [
    {
     "data": {
      "text/plain": [
       "float"
      ]
     },
     "execution_count": 7,
     "metadata": {},
     "output_type": "execute_result"
    }
   ],
   "source": [
    "type (a) #verifico de dato"
   ]
  },
  {
   "cell_type": "code",
   "execution_count": 8,
   "id": "ea962ee4",
   "metadata": {},
   "outputs": [
    {
     "data": {
      "text/plain": [
       "float"
      ]
     },
     "execution_count": 8,
     "metadata": {},
     "output_type": "execute_result"
    }
   ],
   "source": [
    "type(b)"
   ]
  },
  {
   "cell_type": "code",
   "execution_count": 9,
   "id": "31f1133f",
   "metadata": {},
   "outputs": [],
   "source": [
    "# condicionales compuestos\n",
    "#jueves de lady night\n",
    "\n",
    "day = input(\"Ingrese el dia de la semana: \")\n",
    "\n",
    "if day == \"jueves\":\n",
    "    print(\"Es jueves de lady night\")\n",
    "\n",
    "elif day == \"viernes\":\n",
    "    print(\"bebidas a mitad de precio\")\n",
    "\n",
    "elif day == \"sabado\":\n",
    "    print(\"es el dia de la fiesta\")\n",
    "\n",
    "elif day == \"domingo\":\n",
    "    print(\"es el dia de descanso\")"
   ]
  },
  {
   "cell_type": "code",
   "execution_count": null,
   "id": "62d0a859",
   "metadata": {},
   "outputs": [],
   "source": []
  },
  {
   "cell_type": "markdown",
   "id": "ae83545e",
   "metadata": {},
   "source": [
    "## Ciclos finitos"
   ]
  },
  {
   "cell_type": "code",
   "execution_count": 11,
   "id": "4f1cb752",
   "metadata": {},
   "outputs": [
    {
     "name": "stdout",
     "output_type": "stream",
     "text": [
      "Juan\n",
      "Maria\n",
      "Pedro\n",
      "Ana\n"
     ]
    }
   ],
   "source": [
    "# ciclos finitos : for\n",
    "names = [\"Juan\", \"Maria\", \"Pedro\", \"Ana\"]\n",
    "\n",
    "for name in names:\n",
    "    print(name)"
   ]
  },
  {
   "cell_type": "code",
   "execution_count": 25,
   "id": "67935ad8",
   "metadata": {},
   "outputs": [],
   "source": [
    "# ciclos finitos : for\n",
    "names = [\"Juan\", \"maria\", \"Pedro\", \"Ana\"]\n",
    "\n",
    "for name in names:\n",
    "    name =name.lower\n",
    "    if name == \"maria\":\n",
    "        print(\"Encontre a maria\")"
   ]
  },
  {
   "cell_type": "code",
   "execution_count": null,
   "id": "e65406a4",
   "metadata": {},
   "outputs": [],
   "source": [
    "# listas en python\n",
    "# list de nombres venezolanos\n",
    "\n",
    "nombres_venezolanos = [\"Juan\", \"Maria\", \"Pedro\", \"Ana\", \"Jose\", \"Luisa\"]\n",
    "age = [25, 30, 22, 28, 35, 27]\n",
    "peso = [70.3, 60.4, 80, 55, 90, 65]\n"
   ]
  },
  {
   "cell_type": "code",
   "execution_count": null,
   "id": "4c92cd01",
   "metadata": {},
   "outputs": [],
   "source": [
    "# izquierda a dereche va a 0,1,2,3,4,5\n",
    "# derecha a izquierda va a -1,-2,-3,-4,-5\n",
    "nombres_venezolanos = [\"Juan\", \"Maria\", \"Pedro\", \"Ana\", \"Jose\", \"Luisa\"]\n",
    "nombres_venezolanos[0] # Juan\n",
    "nombres_venezolanos[1] # Maria\n",
    "nombres_venezolanos[2] # Pedro\n",
    "nombres_venezolanos[3] # Ana\n",
    "nombres_venezolanos[4] # Jose\n",
    "nombres_venezolanos[5] # Luisa\n",
    "nombres_venezolanos [0:3] # ['Juan', 'Maria', 'Pedro']\n",
    "# [start:stop:step]\n",
    "nombres_venezolanos [1][0:3] # 'Mar'"
   ]
  },
  {
   "cell_type": "code",
   "execution_count": null,
   "id": "1c2fa74d",
   "metadata": {},
   "outputs": [
    {
     "data": {
      "text/plain": [
       "'Juan'"
      ]
     },
     "execution_count": 23,
     "metadata": {},
     "output_type": "execute_result"
    }
   ],
   "source": [
    "nombres_venezolanos = [\"Juan\", \"Maria\", \"Pedro\", \"Ana\", \"Jose\", \"Luisa\"]\n",
    "nombres_venezolanos [0]\n",
    "nombres_venezolanos [0]= (name1)\n",
    "\n"
   ]
  },
  {
   "cell_type": "code",
   "execution_count": 14,
   "id": "ba7bcdeb",
   "metadata": {},
   "outputs": [],
   "source": [
    "# cadenas \n",
    "last_name = \"primero\""
   ]
  },
  {
   "cell_type": "code",
   "execution_count": null,
   "id": "068edf71",
   "metadata": {},
   "outputs": [
    {
     "data": {
      "text/plain": [
       "'pr'"
      ]
     },
     "execution_count": 16,
     "metadata": {},
     "output_type": "execute_result"
    }
   ],
   "source": [
    "last_name [0] # 'p'\n",
    "last_name [0:2]  # 'pr'"
   ]
  },
  {
   "cell_type": "code",
   "execution_count": 23,
   "id": "ada91324",
   "metadata": {},
   "outputs": [],
   "source": [
    "list_of_names_ages = ['pedro', 'maria', 'juan', 'ana', 25, 30, 22, 28]"
   ]
  },
  {
   "cell_type": "code",
   "execution_count": 24,
   "id": "466d8902",
   "metadata": {},
   "outputs": [
    {
     "name": "stdout",
     "output_type": "stream",
     "text": [
      "0\n",
      "1\n",
      "2\n",
      "3\n",
      "4\n",
      "5\n",
      "6\n",
      "7\n"
     ]
    }
   ],
   "source": [
    "cantidad_de_elementos = len(list_of_names_ages)  # 8\n",
    "# iterando sobre la lista\n",
    "for item in range(cantidad_de_elementos):\n",
    "    print(item)"
   ]
  },
  {
   "cell_type": "code",
   "execution_count": null,
   "id": "e36fda49",
   "metadata": {},
   "outputs": [
    {
     "name": "stdout",
     "output_type": "stream",
     "text": [
      "Encontre a pedro\n",
      "No es pedro\n",
      "No es pedro\n",
      "No es pedro\n",
      "No es pedro\n",
      "No es pedro\n",
      "No es pedro\n",
      "No es pedro\n"
     ]
    }
   ],
   "source": [
    "# iterando sobre una lista de nombres y edades\n",
    "# cantidad de elementos en la lista\n",
    "len(list_of_names_ages)  # 8\n",
    "# iterando sobre la lista\n",
    "for item in range(len(list_of_names_ages)):\n",
    "    # buscar el nombre pedro\n",
    "    if list_of_names_ages[item] == \"pedro\":\n",
    "        print(\"Encontre a pedro\")\n",
    "\n"
   ]
  },
  {
   "cell_type": "code",
   "execution_count": 33,
   "id": "367197bb",
   "metadata": {},
   "outputs": [],
   "source": [
    "# diccionarios de python\n",
    "# diccionario de nombres y edades\n",
    "# se define un diccionario con llaves  {}\n",
    "# se asignan valores a cada llave\n",
    "# clave y valor separan con dos puntos :\n",
    "# clave: valor\n",
    "# se separan con comas ,\n",
    "# se pueden acceder a los valores por la clave\n",
    "# se pueden agregar nuevos valores al diccionario\n",
    "# se pueden eliminar valores del diccionario\n",
    "# se pueden iterar los valores del diccionario\n",
    "person = {\n",
    "    \"nombre\": \"Juan\",\n",
    "    \"edad\": 30,\n",
    "    \"ciudad\": \"Madrid\"\n",
    "}"
   ]
  },
  {
   "cell_type": "code",
   "execution_count": 35,
   "id": "b198bc86",
   "metadata": {},
   "outputs": [
    {
     "name": "stdout",
     "output_type": "stream",
     "text": [
      "30\n",
      "Madrid\n"
     ]
    }
   ],
   "source": [
    "person[\"nombre\"]  # 'Juan'\n",
    "print(person[\"edad\"])  # 30\n",
    "print(person[\"ciudad\"])  # 'Madrid'"
   ]
  },
  {
   "cell_type": "markdown",
   "id": "a07fad09",
   "metadata": {},
   "source": [
    "### Funciones"
   ]
  },
  {
   "cell_type": "code",
   "execution_count": 41,
   "id": "e14168ae",
   "metadata": {},
   "outputs": [],
   "source": [
    "# def \n",
    "def saludar():\n",
    "    print(\"Hola\")"
   ]
  },
  {
   "cell_type": "code",
   "execution_count": 42,
   "id": "c0dedcd4",
   "metadata": {},
   "outputs": [
    {
     "name": "stdout",
     "output_type": "stream",
     "text": [
      "Hola\n"
     ]
    }
   ],
   "source": [
    "saludar()"
   ]
  },
  {
   "cell_type": "code",
   "execution_count": 45,
   "id": "28bca59d",
   "metadata": {},
   "outputs": [],
   "source": [
    "#funcion para saludar a una persona \n",
    "def saludar_persona(nombre):\n",
    "    print(f\"Hola, {nombre}\")"
   ]
  },
  {
   "cell_type": "code",
   "execution_count": 46,
   "id": "e91b099b",
   "metadata": {},
   "outputs": [
    {
     "name": "stdout",
     "output_type": "stream",
     "text": [
      "Hola, Juan\n"
     ]
    }
   ],
   "source": [
    "saludar_persona(\"Juan\")"
   ]
  },
  {
   "cell_type": "code",
   "execution_count": 47,
   "id": "b76c6052",
   "metadata": {},
   "outputs": [
    {
     "name": "stdout",
     "output_type": "stream",
     "text": [
      "Hola, Juan Perez\n"
     ]
    }
   ],
   "source": [
    "# saludar a una persona por su nombre y apellido \n",
    "def saludar_persona_completo(nombre, apellido):\n",
    "    print(f\"Hola, {nombre} {apellido}\")\n",
    "\n",
    "saludar_persona_completo(\"Juan\", \"Perez\")"
   ]
  },
  {
   "cell_type": "code",
   "execution_count": null,
   "id": "3ff8e0a1",
   "metadata": {},
   "outputs": [],
   "source": []
  },
  {
   "cell_type": "code",
   "execution_count": 49,
   "id": "0c1b74e4",
   "metadata": {},
   "outputs": [],
   "source": [
    "def saludar_persona_completo2(nombre = 'fulano', apellido = 'de tal'):\n",
    "    print(f\"Hola, {nombre} {apellido}\")\n"
   ]
  }
 ],
 "metadata": {
  "kernelspec": {
   "display_name": ".venv",
   "language": "python",
   "name": "python3"
  },
  "language_info": {
   "codemirror_mode": {
    "name": "ipython",
    "version": 3
   },
   "file_extension": ".py",
   "mimetype": "text/x-python",
   "name": "python",
   "nbconvert_exporter": "python",
   "pygments_lexer": "ipython3",
   "version": "3.13.5"
  }
 },
 "nbformat": 4,
 "nbformat_minor": 5
}
