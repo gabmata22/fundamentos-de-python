{
 "cells": [
  {
   "cell_type": "code",
   "execution_count": 1,
   "id": "a2807906",
   "metadata": {},
   "outputs": [
    {
     "name": "stdout",
     "output_type": "stream",
     "text": [
      "hola\n"
     ]
    }
   ],
   "source": [
    "print('hola')"
   ]
  },
  {
   "cell_type": "code",
   "execution_count": null,
   "id": "951f8484",
   "metadata": {},
   "outputs": [],
   "source": [
    "# condicional simple\n",
    "a = 5\n",
    "b = 10\n",
    "if a < b:\n",
    "    print('a es menor que b')"
   ]
  },
  {
   "cell_type": "code",
   "execution_count": 4,
   "id": "229aaada",
   "metadata": {},
   "outputs": [
    {
     "name": "stdout",
     "output_type": "stream",
     "text": [
      "a no es menor que b o no es mayor que 1\n"
     ]
    }
   ],
   "source": [
    "# Condicional simple\n",
    "\n",
    "a = 0\n",
    "b = 10\n",
    "\n",
    "if (a < b) and (a > 1):\n",
    "    print(\"a es menor que b y mayor que 1\")\n",
    "else: \n",
    "    print(\"a no es menor que b o no es mayor que 1\") "
   ]
  },
  {
   "cell_type": "code",
   "execution_count": null,
   "id": "17f80ae4",
   "metadata": {},
   "outputs": [],
   "source": [
    "# table de la verdad operador and\n",
    "# true and true = true\n",
    "# true and false = false\n",
    "# false and true = false\n",
    "# false and false = false  \n",
    "True and True # True     "
   ]
  },
  {
   "cell_type": "code",
   "execution_count": 11,
   "id": "31d7231c",
   "metadata": {},
   "outputs": [
    {
     "name": "stdout",
     "output_type": "stream",
     "text": [
      "a no es mayor que 1\n"
     ]
    }
   ],
   "source": [
    "a = 0\n",
    "b = 10\n",
    "\n",
    "if (a < b):\n",
    "    if (a > 1):\n",
    "        print(\"a es menor que b y mayor que 1\")\n",
    "    else: \n",
    "        print(\"a no es mayor que 1\")\n",
    "else:\n",
    "    print(\"no es mayor que 1\")"
   ]
  },
  {
   "cell_type": "code",
   "execution_count": 21,
   "id": "cb707834",
   "metadata": {},
   "outputs": [
    {
     "ename": "ValueError",
     "evalue": "could not convert string to float: 'viernes'",
     "output_type": "error",
     "traceback": [
      "\u001b[31m---------------------------------------------------------------------------\u001b[39m",
      "\u001b[31mValueError\u001b[39m                                Traceback (most recent call last)",
      "\u001b[36mCell\u001b[39m\u001b[36m \u001b[39m\u001b[32mIn[21]\u001b[39m\u001b[32m, line 5\u001b[39m\n\u001b[32m      1\u001b[39m \u001b[38;5;66;03m# condicionales compuestos\u001b[39;00m\n\u001b[32m      2\u001b[39m \u001b[38;5;66;03m#condicionales simple\u001b[39;00m\n\u001b[32m      4\u001b[39m a = \u001b[38;5;28minput\u001b[39m (\u001b[33m\"\u001b[39m\u001b[33mingrese un numero para a:\u001b[39m\u001b[33m\"\u001b[39m)\n\u001b[32m----> \u001b[39m\u001b[32m5\u001b[39m a = \u001b[38;5;28;43mfloat\u001b[39;49m\u001b[43m(\u001b[49m\u001b[43ma\u001b[49m\u001b[43m)\u001b[49m  \u001b[38;5;66;03m# Convertir a entero\u001b[39;00m\n\u001b[32m      6\u001b[39m b = \u001b[38;5;28mfloat\u001b[39m(\u001b[38;5;28minput\u001b[39m(\u001b[33m\"\u001b[39m\u001b[33mingrese un numero para b:\u001b[39m\u001b[33m\"\u001b[39m))\n\u001b[32m      8\u001b[39m \u001b[38;5;28;01mif\u001b[39;00m (a < b):\n",
      "\u001b[31mValueError\u001b[39m: could not convert string to float: 'viernes'"
     ]
    }
   ],
   "source": [
    "# condicionales compuestos\n",
    "#condicionales simple\n",
    "\n",
    "a = input (\"ingrese un numero para a:\")\n",
    "a = float(a)  # Convertir a entero\n",
    "b = float(input(\"ingrese un numero para b:\"))\n",
    "\n",
    "if (a < b):\n",
    "    if (a > 1):\n",
    "        print(\"a es menor que b y mayor que 1\")\n",
    "    else: \n",
    "        print(\"a no es mayor que 1\")\n",
    "else:\n",
    "    print(\"no es menor que b\")"
   ]
  },
  {
   "cell_type": "code",
   "execution_count": 14,
   "id": "cc18addd",
   "metadata": {},
   "outputs": [
    {
     "data": {
      "text/plain": [
       "str"
      ]
     },
     "execution_count": 14,
     "metadata": {},
     "output_type": "execute_result"
    }
   ],
   "source": [
    "type (a) #verifico de dato"
   ]
  },
  {
   "cell_type": "code",
   "execution_count": 15,
   "id": "ea962ee4",
   "metadata": {},
   "outputs": [
    {
     "data": {
      "text/plain": [
       "int"
      ]
     },
     "execution_count": 15,
     "metadata": {},
     "output_type": "execute_result"
    }
   ],
   "source": [
    "type(b)"
   ]
  },
  {
   "cell_type": "code",
   "execution_count": 22,
   "id": "31f1133f",
   "metadata": {},
   "outputs": [
    {
     "name": "stdout",
     "output_type": "stream",
     "text": [
      "bebidas a mitad de precio\n"
     ]
    }
   ],
   "source": [
    "# condicionales compuestos\n",
    "#jueves de lady night\n",
    "\n",
    "day = input(\"Ingrese el dia de la semana: \")\n",
    "\n",
    "if day == \"jueves\":\n",
    "    print(\"Es jueves de lady night\")\n",
    "\n",
    "elif day == \"viernes\":\n",
    "    print(\"bebidas a mitad de precio\")\n",
    "\n",
    "elif day == \"sabado\":\n",
    "    print(\"es el dia de la fiesta\")\n",
    "\n",
    "elif day == \"domingo\":\n",
    "    print(\"es el dia de descanso\")"
   ]
  }
 ],
 "metadata": {
  "kernelspec": {
   "display_name": ".venv",
   "language": "python",
   "name": "python3"
  },
  "language_info": {
   "codemirror_mode": {
    "name": "ipython",
    "version": 3
   },
   "file_extension": ".py",
   "mimetype": "text/x-python",
   "name": "python",
   "nbconvert_exporter": "python",
   "pygments_lexer": "ipython3",
   "version": "3.13.5"
  }
 },
 "nbformat": 4,
 "nbformat_minor": 5
}
