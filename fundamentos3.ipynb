{
 "cells": [
  {
   "cell_type": "code",
   "execution_count": 1,
   "id": "a2807906",
   "metadata": {},
   "outputs": [
    {
     "name": "stdout",
     "output_type": "stream",
     "text": [
      "hola\n"
     ]
    }
   ],
   "source": [
    "print('hola')"
   ]
  },
  {
   "cell_type": "code",
   "execution_count": 2,
   "id": "951f8484",
   "metadata": {},
   "outputs": [
    {
     "name": "stdout",
     "output_type": "stream",
     "text": [
      "a es menor que b\n"
     ]
    }
   ],
   "source": [
    "# condicional simple\n",
    "a = 5\n",
    "b = 10\n",
    "if a < b:\n",
    "    print('a es menor que b')"
   ]
  },
  {
   "cell_type": "code",
   "execution_count": 3,
   "id": "229aaada",
   "metadata": {},
   "outputs": [
    {
     "name": "stdout",
     "output_type": "stream",
     "text": [
      "a no es menor que b o no es mayor que 1\n"
     ]
    }
   ],
   "source": [
    "# Condicional simple\n",
    "\n",
    "a = 0\n",
    "b = 10\n",
    "\n",
    "if (a < b) and (a > 1):\n",
    "    print(\"a es menor que b y mayor que 1\")\n",
    "else: \n",
    "    print(\"a no es menor que b o no es mayor que 1\") "
   ]
  },
  {
   "cell_type": "code",
   "execution_count": 4,
   "id": "17f80ae4",
   "metadata": {},
   "outputs": [
    {
     "data": {
      "text/plain": [
       "True"
      ]
     },
     "execution_count": 4,
     "metadata": {},
     "output_type": "execute_result"
    }
   ],
   "source": [
    "# table de la verdad operador and\n",
    "# true and true = true\n",
    "# true and false = false\n",
    "# false and true = false\n",
    "# false and false = false  \n",
    "True and True # True     "
   ]
  },
  {
   "cell_type": "code",
   "execution_count": 5,
   "id": "31d7231c",
   "metadata": {},
   "outputs": [
    {
     "name": "stdout",
     "output_type": "stream",
     "text": [
      "a no es mayor que 1\n"
     ]
    }
   ],
   "source": [
    "a = 0\n",
    "b = 10\n",
    "\n",
    "if (a < b):\n",
    "    if (a > 1):\n",
    "        print(\"a es menor que b y mayor que 1\")\n",
    "    else: \n",
    "        print(\"a no es mayor que 1\")\n",
    "else:\n",
    "    print(\"no es mayor que 1\")"
   ]
  },
  {
   "cell_type": "code",
   "execution_count": 6,
   "id": "cb707834",
   "metadata": {},
   "outputs": [
    {
     "name": "stdout",
     "output_type": "stream",
     "text": [
      "a es menor que b y mayor que 1\n"
     ]
    }
   ],
   "source": [
    "# condicionales compuestos\n",
    "#condicionales simple\n",
    "\n",
    "a = input (\"ingrese un numero para a:\")\n",
    "a = float(a)  # Convertir a entero\n",
    "b = float(input(\"ingrese un numero para b:\"))\n",
    "\n",
    "if (a < b):\n",
    "    if (a > 1):\n",
    "        print(\"a es menor que b y mayor que 1\")\n",
    "    else: \n",
    "        print(\"a no es mayor que 1\")\n",
    "else:\n",
    "    print(\"no es menor que b\")"
   ]
  },
  {
   "cell_type": "code",
   "execution_count": 7,
   "id": "cc18addd",
   "metadata": {},
   "outputs": [
    {
     "data": {
      "text/plain": [
       "float"
      ]
     },
     "execution_count": 7,
     "metadata": {},
     "output_type": "execute_result"
    }
   ],
   "source": [
    "type (a) #verifico de dato"
   ]
  },
  {
   "cell_type": "code",
   "execution_count": 8,
   "id": "ea962ee4",
   "metadata": {},
   "outputs": [
    {
     "data": {
      "text/plain": [
       "float"
      ]
     },
     "execution_count": 8,
     "metadata": {},
     "output_type": "execute_result"
    }
   ],
   "source": [
    "type(b)"
   ]
  },
  {
   "cell_type": "code",
   "execution_count": 9,
   "id": "31f1133f",
   "metadata": {},
   "outputs": [],
   "source": [
    "# condicionales compuestos\n",
    "#jueves de lady night\n",
    "\n",
    "day = input(\"Ingrese el dia de la semana: \")\n",
    "\n",
    "if day == \"jueves\":\n",
    "    print(\"Es jueves de lady night\")\n",
    "\n",
    "elif day == \"viernes\":\n",
    "    print(\"bebidas a mitad de precio\")\n",
    "\n",
    "elif day == \"sabado\":\n",
    "    print(\"es el dia de la fiesta\")\n",
    "\n",
    "elif day == \"domingo\":\n",
    "    print(\"es el dia de descanso\")"
   ]
  },
  {
   "cell_type": "code",
   "execution_count": null,
   "id": "62d0a859",
   "metadata": {},
   "outputs": [],
   "source": []
  },
  {
   "cell_type": "markdown",
   "id": "ae83545e",
   "metadata": {},
   "source": [
    "## Ciclos finitos"
   ]
  },
  {
   "cell_type": "code",
   "execution_count": 11,
   "id": "4f1cb752",
   "metadata": {},
   "outputs": [
    {
     "name": "stdout",
     "output_type": "stream",
     "text": [
      "Juan\n",
      "Maria\n",
      "Pedro\n",
      "Ana\n"
     ]
    }
   ],
   "source": [
    "# ciclos finitos : for\n",
    "names = [\"Juan\", \"Maria\", \"Pedro\", \"Ana\"]\n",
    "\n",
    "for name in names:\n",
    "    print(name)"
   ]
  },
  {
   "cell_type": "code",
   "execution_count": 25,
   "id": "67935ad8",
   "metadata": {},
   "outputs": [],
   "source": [
    "# ciclos finitos : for\n",
    "names = [\"Juan\", \"maria\", \"Pedro\", \"Ana\"]\n",
    "\n",
    "for name in names:\n",
    "    name =name.lower\n",
    "    if name == \"maria\":\n",
    "        print(\"Encontre a maria\")"
   ]
  },
  {
   "cell_type": "code",
   "execution_count": null,
   "id": "e65406a4",
   "metadata": {},
   "outputs": [],
   "source": [
    "# listas en python\n",
    "# list de nombres venezolanos\n",
    "\n",
    "nombres_venezolanos = [\"Juan\", \"Maria\", \"Pedro\", \"Ana\", \"Jose\", \"Luisa\"]\n",
    "age = [25, 30, 22, 28, 35, 27]\n",
    "peso = [70.3, 60.4, 80, 55, 90, 65]\n"
   ]
  },
  {
   "cell_type": "code",
   "execution_count": null,
   "id": "4c92cd01",
   "metadata": {},
   "outputs": [],
   "source": [
    "# izquierda a dereche va a 0,1,2,3,4,5\n",
    "# derecha a izquierda va a -1,-2,-3,-4,-5\n",
    "nombres_venezolanos = [\"Juan\", \"Maria\", \"Pedro\", \"Ana\", \"Jose\", \"Luisa\"]\n",
    "nombres_venezolanos[0] # Juan\n",
    "nombres_venezolanos[1] # Maria\n",
    "nombres_venezolanos[2] # Pedro\n",
    "nombres_venezolanos[3] # Ana\n",
    "nombres_venezolanos[4] # Jose\n",
    "nombres_venezolanos[5] # Luisa\n",
    "nombres_venezolanos [0:3] # ['Juan', 'Maria', 'Pedro']\n",
    "# [start:stop:step]\n",
    "nombres_venezolanos [1][0:3] # 'Mar'"
   ]
  },
  {
   "cell_type": "code",
   "execution_count": null,
   "id": "1c2fa74d",
   "metadata": {},
   "outputs": [
    {
     "data": {
      "text/plain": [
       "'Juan'"
      ]
     },
     "execution_count": 23,
     "metadata": {},
     "output_type": "execute_result"
    }
   ],
   "source": [
    "nombres_venezolanos = [\"Juan\", \"Maria\", \"Pedro\", \"Ana\", \"Jose\", \"Luisa\"]\n",
    "nombres_venezolanos [0]\n",
    "nombres_venezolanos [0]= (name1)\n",
    "\n"
   ]
  }
 ],
 "metadata": {
  "kernelspec": {
   "display_name": ".venv",
   "language": "python",
   "name": "python3"
  },
  "language_info": {
   "codemirror_mode": {
    "name": "ipython",
    "version": 3
   },
   "file_extension": ".py",
   "mimetype": "text/x-python",
   "name": "python",
   "nbconvert_exporter": "python",
   "pygments_lexer": "ipython3",
   "version": "3.13.5"
  }
 },
 "nbformat": 4,
 "nbformat_minor": 5
}
