{
 "cells": [
  {
   "cell_type": "markdown",
   "id": "66f646ea",
   "metadata": {},
   "source": [
    "# fundamentos de python\n",
    "\n",
    "*variables\n",
    "\n",
    "*Operadores matematicas basicas \n",
    "\n",
    "*Operadores booleanos\n",
    "\n",
    "*operadores de comparacion\n",
    "\n",
    "*Estructura de control\n",
    "    -Condicionales simples\n",
    "    -Condiscionales compuestos\n",
    "    -Ciclos finitos\n",
    "    -ciclos infintos\n",
    "    -funciones\n",
    "\n",
    "* Estructura de datos \n",
    "    -Enteros\n",
    "    -cadenas de caracteres\n",
    "    -Listas\n",
    "    -diccionarios\n",
    "    -Tuplas\n"
   ]
  },
  {
   "cell_type": "code",
   "execution_count": 2,
   "id": "4866e3a1",
   "metadata": {},
   "outputs": [
    {
     "name": "stdout",
     "output_type": "stream",
     "text": [
      "hola mundo\n"
     ]
    }
   ],
   "source": [
    "print(\"hola mundo\")"
   ]
  },
  {
   "cell_type": "code",
   "execution_count": 4,
   "id": "179f8975",
   "metadata": {},
   "outputs": [],
   "source": [
    "# variables \n",
    "name = \"Jose\"\n",
    "age = 30\n",
    "place = \"Madrid\"\n",
    "last_name = \"Gomez\"\n",
    "# variable siempre en minusculas\n",
    "\n",
    "\n"
   ]
  },
  {
   "cell_type": "code",
   "execution_count": 6,
   "id": "b4662dc8",
   "metadata": {},
   "outputs": [
    {
     "ename": "SyntaxError",
     "evalue": "invalid syntax (3996509635.py, line 2)",
     "output_type": "error",
     "traceback": [
      "  \u001b[36mCell\u001b[39m\u001b[36m \u001b[39m\u001b[32mIn[6]\u001b[39m\u001b[32m, line 2\u001b[39m\n\u001b[31m    \u001b[39m\u001b[31mMayusculas variables= Name\u001b[39m\n               ^\n\u001b[31mSyntaxError\u001b[39m\u001b[31m:\u001b[39m invalid syntax\n"
     ]
    }
   ],
   "source": [
    "# Mala practicas \n",
    "Mayusculas variables= Name\n",
    "no piso con variables de dos palabras = lastname \n"
   ]
  },
  {
   "cell_type": "code",
   "execution_count": 7,
   "id": "9f949f23",
   "metadata": {},
   "outputs": [
    {
     "name": "stdout",
     "output_type": "stream",
     "text": [
      "Jose 30 Madrid Gomez\n"
     ]
    }
   ],
   "source": [
    "print(name, age, place, last_name)"
   ]
  },
  {
   "cell_type": "code",
   "execution_count": null,
   "id": "3274b653",
   "metadata": {},
   "outputs": [
    {
     "name": "stdout",
     "output_type": "stream",
     "text": [
      "30\n"
     ]
    }
   ],
   "source": [
    "# OPERADORES ARITMETICOS\n",
    "number1 = 10 \n",
    "number2 = 20\n",
    "\n",
    "sum_result = number1 + number2\n",
    "\n",
    "\n",
    "difference_result = number1 - number2\n",
    "\n",
    "product_result = number1 * number2\n",
    "\n",
    "division_result = number1 / number2\n"
   ]
  },
  {
   "cell_type": "code",
   "execution_count": 9,
   "id": "9c5f9ea4",
   "metadata": {},
   "outputs": [
    {
     "data": {
      "text/plain": [
       "30"
      ]
     },
     "execution_count": 9,
     "metadata": {},
     "output_type": "execute_result"
    }
   ],
   "source": [
    "sum_result"
   ]
  },
  {
   "cell_type": "code",
   "execution_count": 13,
   "id": "32d18040",
   "metadata": {},
   "outputs": [
    {
     "name": "stdout",
     "output_type": "stream",
     "text": [
      "Resta: -10\n",
      "Producto: 200\n",
      "Division: 0.5\n"
     ]
    }
   ],
   "source": [
    "# imprime los resultados de la operaciones\n",
    "print(\"Resta:\", difference_result)\n",
    "print(\"Producto:\", product_result)\n",
    "print(\"Division:\", division_result)"
   ]
  },
  {
   "cell_type": "code",
   "execution_count": null,
   "id": "b333b97e",
   "metadata": {},
   "outputs": [],
   "source": [
    "# Clase 2"
   ]
  }
 ],
 "metadata": {
  "kernelspec": {
   "display_name": ".venv",
   "language": "python",
   "name": "python3"
  },
  "language_info": {
   "codemirror_mode": {
    "name": "ipython",
    "version": 3
   },
   "file_extension": ".py",
   "mimetype": "text/x-python",
   "name": "python",
   "nbconvert_exporter": "python",
   "pygments_lexer": "ipython3",
   "version": "3.13.5"
  }
 },
 "nbformat": 4,
 "nbformat_minor": 5
}
